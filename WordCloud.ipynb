{
  "nbformat": 4,
  "nbformat_minor": 0,
  "metadata": {
    "colab": {
      "provenance": [],
      "include_colab_link": true
    },
    "kernelspec": {
      "name": "python3",
      "display_name": "Python 3"
    },
    "language_info": {
      "name": "python"
    }
  },
  "cells": [
    {
      "cell_type": "markdown",
      "metadata": {
        "id": "view-in-github",
        "colab_type": "text"
      },
      "source": [
        "<a href=\"https://colab.research.google.com/github/yknym00/lee-yun-kyung/blob/main/WordCloud.ipynb\" target=\"_parent\"><img src=\"https://colab.research.google.com/assets/colab-badge.svg\" alt=\"Open In Colab\"/></a>"
      ]
    },
    {
      "cell_type": "markdown",
      "source": [
        "#Topic: Generating a Wordcloud image"
      ],
      "metadata": {
        "id": "cpwMFSfZWl1o"
      }
    },
    {
      "cell_type": "markdown",
      "source": [
        "##Step 1: Prepare your text"
      ],
      "metadata": {
        "id": "QH9S9aqbWqTn"
      }
    },
    {
      "cell_type": "code",
      "execution_count": null,
      "metadata": {
        "id": "tQkM5i9yWLg0"
      },
      "outputs": [],
      "source": [
        "text = \"In the ever-evolving world of technology, the importance of digital literacy cannot be overstated. It is the cornerstone of modern education, enabling learners to navigate and thrive in a digital landscape. At the heart of this digital revolution is coding – a skill that has become essential in various fields. Python, known for its simplicity and versatility, stands out as a preferred language for beginners and experts alike. Teaching Python offers a unique opportunity to blend coding with language learning. This approach not only equips students with technical skills but also enhances their cognitive abilities, akin to learning a new spoken language. The process of learning Python, much like any language, involves understanding syntax, grammar, and vocabulary. However, it extends beyond mere language acquisition; it fosters logical thinking and problem-solving skills. Incorporating Python into educational curriculums revolutionizes the way we think about teaching and learning. It opens doors to innovative teaching methods, where instructors can blend traditional language teaching techniques with the interactive, engaging nature of coding. This synergy enhances digital literacy, preparing students for a future where technology is ubiquitous. Furthermore, language learning principles can be effectively applied to teaching Python. Techniques such as spaced repetition, immersive learning, and contextual usage are not only beneficial in acquiring new languages but are equally effective in mastering programming languages. By integrating these methodologies, educators can create a more holistic and engaging learning experience. In conclusion, the intersection of Python, coding, language learning, teaching, and digital literacy represents a significant shift in educational paradigms. It emphasizes the need for a comprehensive understanding of digital tools and languages, preparing learners for the challenges of a digital future.\""
      ]
    },
    {
      "cell_type": "markdown",
      "source": [
        "##Step 2: Run the following code\n",
        "Think about which parts you need to change or revise"
      ],
      "metadata": {
        "id": "jSRZn6CXWuDo"
      }
    },
    {
      "cell_type": "code",
      "source": [
        "from wordcloud import WordCloud\n",
        "import matplotlib.pyplot as plt\n",
        "\n",
        "# Generate word cloud\n",
        "wordcloud = WordCloud(width = 800, height = 600,\n",
        "                      background_color ='white',\n",
        "                      min_font_size = 10).generate(text)\n",
        "\n",
        "# Display the word cloud using matplotlib\n",
        "plt.imshow(wordcloud)\n",
        "plt.show()"
      ],
      "metadata": {
        "id": "GqnPuqT-WT9Q"
      },
      "execution_count": null,
      "outputs": []
    },
    {
      "cell_type": "markdown",
      "source": [
        "##(Modified) Margin, padding\n",
        "Padding in image generation refers to the process of adding extra pixels around the edges of an image."
      ],
      "metadata": {
        "id": "zATr6VTNW0dv"
      }
    },
    {
      "cell_type": "code",
      "source": [
        "from wordcloud import WordCloud\n",
        "import matplotlib.pyplot as plt\n",
        "\n",
        "# Generate word cloud\n",
        "wordcloud = WordCloud(width = 800, height = 600,\n",
        "                      background_color ='white',\n",
        "                      min_font_size = 10).generate(text)\n",
        "\n",
        "# Display the word cloud using matplotlib\n",
        "# plt.figure(figsize = (8, 4), facecolor = None)\n",
        "plt.imshow(wordcloud)\n",
        "plt.axis(\"off\")\n",
        "plt.tight_layout(pad = 2) # margine space\n",
        "\n",
        "plt.show()"
      ],
      "metadata": {
        "id": "I1Ra_RPbWZs4"
      },
      "execution_count": null,
      "outputs": []
    },
    {
      "cell_type": "markdown",
      "source": [
        "##(Modified 2) Font color to change\n",
        "Hexa color"
      ],
      "metadata": {
        "id": "SEI9l53vW3w3"
      }
    },
    {
      "cell_type": "code",
      "source": [
        "from wordcloud import WordCloud\n",
        "import matplotlib.pyplot as plt\n",
        "\n",
        "# Function to change the font colors\n",
        "def gradient_color_func(word, font_size, position, orientation, random_state=None, **kwargs):\n",
        "    shades_of_blue = [\"#c41454\", \"#32a879\", \"#32a879\", \"#c2c73a\", \"#351182\"]\n",
        "    return shades_of_blue[len(word) % len(shades_of_blue)]\n",
        "\n",
        "\n",
        "# Generate word cloud\n",
        "wordcloud = WordCloud(width = 800, height = 600,\n",
        "                      background_color ='white',\n",
        "                      min_font_size = 10,\n",
        "                      color_func=gradient_color_func  # Use the color function\n",
        "                     ).generate(text)\n",
        "\n",
        "# Display the word cloud using matplotlib\n",
        "plt.imshow(wordcloud)\n",
        "plt.axis(\"off\")\n",
        "plt.tight_layout(pad = 2)  # margin space\n",
        "\n",
        "plt.show()\n"
      ],
      "metadata": {
        "id": "b2ET1fkMWfzY"
      },
      "execution_count": null,
      "outputs": []
    }
  ]
}